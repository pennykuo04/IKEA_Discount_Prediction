{
 "cells": [
  {
   "cell_type": "markdown",
   "id": "06fd030b",
   "metadata": {},
   "source": [
    "# 利用 IKEA 傢俱產品資料進行商品特價預測"
   ]
  },
  {
   "cell_type": "markdown",
   "id": "0790f059",
   "metadata": {},
   "source": [
    "## 前言"
   ]
  },
  {
   "cell_type": "markdown",
   "id": "792d271f",
   "metadata": {},
   "source": [
    "> 本文使用 Kaggle 上之IKEA 傢俱產品型錄數據，內含商品ID、商品名稱、商品種類、商品原定價及活動價等資訊，因為此資料集看不出消費者輪廓，難做到開源的角色，`所以本次分析將著重在節流的部分，針對產品特價進行預測`，欲預測下次公司舉辦促銷活動時，哪些產品應該列入活動中；哪些則直接以原定價上線即可，`使公司避免商品內折的情況`。\n",
    "\n",
    "資料集來源 : https://www.kaggle.com/datasets/ahmedkallam/ikea-sa-furniture-web-scraping"
   ]
  },
  {
   "cell_type": "markdown",
   "id": "264b6560",
   "metadata": {},
   "source": [
    "## [ 資料前處理 ]"
   ]
  },
  {
   "cell_type": "markdown",
   "id": "c633e9f3",
   "metadata": {},
   "source": [
    "### 導入工具包 / 資料集"
   ]
  },
  {
   "cell_type": "code",
   "execution_count": 1,
   "id": "cabb36ae",
   "metadata": {},
   "outputs": [],
   "source": [
    "import numpy as np\n",
    "import pandas as pd\n",
    "import matplotlib.pyplot as plt\n",
    "import seaborn as sns\n"
   ]
  },
  {
   "cell_type": "code",
   "execution_count": 2,
   "id": "becf9779",
   "metadata": {},
   "outputs": [
    {
     "data": {
      "text/html": [
       "<div>\n",
       "<style scoped>\n",
       "    .dataframe tbody tr th:only-of-type {\n",
       "        vertical-align: middle;\n",
       "    }\n",
       "\n",
       "    .dataframe tbody tr th {\n",
       "        vertical-align: top;\n",
       "    }\n",
       "\n",
       "    .dataframe thead th {\n",
       "        text-align: right;\n",
       "    }\n",
       "</style>\n",
       "<table border=\"1\" class=\"dataframe\">\n",
       "  <thead>\n",
       "    <tr style=\"text-align: right;\">\n",
       "      <th></th>\n",
       "      <th>item_id</th>\n",
       "      <th>name</th>\n",
       "      <th>category</th>\n",
       "      <th>price</th>\n",
       "      <th>old_price</th>\n",
       "      <th>sellable_online</th>\n",
       "      <th>link</th>\n",
       "      <th>other_colors</th>\n",
       "      <th>short_description</th>\n",
       "      <th>designer</th>\n",
       "      <th>depth</th>\n",
       "      <th>height</th>\n",
       "      <th>width</th>\n",
       "    </tr>\n",
       "  </thead>\n",
       "  <tbody>\n",
       "    <tr>\n",
       "      <th>0</th>\n",
       "      <td>90420332</td>\n",
       "      <td>FREKVENS</td>\n",
       "      <td>Bar furniture</td>\n",
       "      <td>265.0</td>\n",
       "      <td>No old price</td>\n",
       "      <td>True</td>\n",
       "      <td>https://www.ikea.com/sa/en/p/frekvens-bar-tabl...</td>\n",
       "      <td>No</td>\n",
       "      <td>Bar table, in/outdoor,          51x51 cm</td>\n",
       "      <td>Nicholai Wiig Hansen</td>\n",
       "      <td>NaN</td>\n",
       "      <td>99.0</td>\n",
       "      <td>51.0</td>\n",
       "    </tr>\n",
       "    <tr>\n",
       "      <th>1</th>\n",
       "      <td>368814</td>\n",
       "      <td>NORDVIKEN</td>\n",
       "      <td>Bar furniture</td>\n",
       "      <td>995.0</td>\n",
       "      <td>No old price</td>\n",
       "      <td>False</td>\n",
       "      <td>https://www.ikea.com/sa/en/p/nordviken-bar-tab...</td>\n",
       "      <td>No</td>\n",
       "      <td>Bar table,          140x80 cm</td>\n",
       "      <td>Francis Cayouette</td>\n",
       "      <td>NaN</td>\n",
       "      <td>105.0</td>\n",
       "      <td>80.0</td>\n",
       "    </tr>\n",
       "    <tr>\n",
       "      <th>2</th>\n",
       "      <td>9333523</td>\n",
       "      <td>NORDVIKEN / NORDVIKEN</td>\n",
       "      <td>Bar furniture</td>\n",
       "      <td>2095.0</td>\n",
       "      <td>No old price</td>\n",
       "      <td>False</td>\n",
       "      <td>https://www.ikea.com/sa/en/p/nordviken-nordvik...</td>\n",
       "      <td>No</td>\n",
       "      <td>Bar table and 4 bar stools</td>\n",
       "      <td>Francis Cayouette</td>\n",
       "      <td>NaN</td>\n",
       "      <td>NaN</td>\n",
       "      <td>NaN</td>\n",
       "    </tr>\n",
       "    <tr>\n",
       "      <th>3</th>\n",
       "      <td>80155205</td>\n",
       "      <td>STIG</td>\n",
       "      <td>Bar furniture</td>\n",
       "      <td>69.0</td>\n",
       "      <td>No old price</td>\n",
       "      <td>True</td>\n",
       "      <td>https://www.ikea.com/sa/en/p/stig-bar-stool-wi...</td>\n",
       "      <td>Yes</td>\n",
       "      <td>Bar stool with backrest,          74 cm</td>\n",
       "      <td>Henrik Preutz</td>\n",
       "      <td>50.0</td>\n",
       "      <td>100.0</td>\n",
       "      <td>60.0</td>\n",
       "    </tr>\n",
       "    <tr>\n",
       "      <th>4</th>\n",
       "      <td>30180504</td>\n",
       "      <td>NORBERG</td>\n",
       "      <td>Bar furniture</td>\n",
       "      <td>225.0</td>\n",
       "      <td>No old price</td>\n",
       "      <td>True</td>\n",
       "      <td>https://www.ikea.com/sa/en/p/norberg-wall-moun...</td>\n",
       "      <td>No</td>\n",
       "      <td>Wall-mounted drop-leaf table,         ...</td>\n",
       "      <td>Marcus Arvonen</td>\n",
       "      <td>60.0</td>\n",
       "      <td>43.0</td>\n",
       "      <td>74.0</td>\n",
       "    </tr>\n",
       "  </tbody>\n",
       "</table>\n",
       "</div>"
      ],
      "text/plain": [
       "    item_id                   name       category   price     old_price  \\\n",
       "0  90420332               FREKVENS  Bar furniture   265.0  No old price   \n",
       "1    368814              NORDVIKEN  Bar furniture   995.0  No old price   \n",
       "2   9333523  NORDVIKEN / NORDVIKEN  Bar furniture  2095.0  No old price   \n",
       "3  80155205                   STIG  Bar furniture    69.0  No old price   \n",
       "4  30180504                NORBERG  Bar furniture   225.0  No old price   \n",
       "\n",
       "   sellable_online                                               link  \\\n",
       "0             True  https://www.ikea.com/sa/en/p/frekvens-bar-tabl...   \n",
       "1            False  https://www.ikea.com/sa/en/p/nordviken-bar-tab...   \n",
       "2            False  https://www.ikea.com/sa/en/p/nordviken-nordvik...   \n",
       "3             True  https://www.ikea.com/sa/en/p/stig-bar-stool-wi...   \n",
       "4             True  https://www.ikea.com/sa/en/p/norberg-wall-moun...   \n",
       "\n",
       "  other_colors                                  short_description  \\\n",
       "0           No           Bar table, in/outdoor,          51x51 cm   \n",
       "1           No                      Bar table,          140x80 cm   \n",
       "2           No                         Bar table and 4 bar stools   \n",
       "3          Yes            Bar stool with backrest,          74 cm   \n",
       "4           No          Wall-mounted drop-leaf table,         ...   \n",
       "\n",
       "               designer  depth  height  width  \n",
       "0  Nicholai Wiig Hansen    NaN    99.0   51.0  \n",
       "1     Francis Cayouette    NaN   105.0   80.0  \n",
       "2     Francis Cayouette    NaN     NaN    NaN  \n",
       "3         Henrik Preutz   50.0   100.0   60.0  \n",
       "4        Marcus Arvonen   60.0    43.0   74.0  "
      ]
     },
     "execution_count": 2,
     "metadata": {},
     "output_type": "execute_result"
    }
   ],
   "source": [
    "df = pd.read_csv('./IKEA_SA_Furniture.csv', encoding = 'utf-8')\n",
    "df = df.iloc[:,1:]  # 資料集含有index欄，故篩出index欄外的其他資料\n",
    "df.head()"
   ]
  },
  {
   "cell_type": "code",
   "execution_count": 3,
   "id": "73231dab",
   "metadata": {},
   "outputs": [
    {
     "data": {
      "text/html": [
       "<div>\n",
       "<style scoped>\n",
       "    .dataframe tbody tr th:only-of-type {\n",
       "        vertical-align: middle;\n",
       "    }\n",
       "\n",
       "    .dataframe tbody tr th {\n",
       "        vertical-align: top;\n",
       "    }\n",
       "\n",
       "    .dataframe thead th {\n",
       "        text-align: right;\n",
       "    }\n",
       "</style>\n",
       "<table border=\"1\" class=\"dataframe\">\n",
       "  <thead>\n",
       "    <tr style=\"text-align: right;\">\n",
       "      <th></th>\n",
       "      <th>item_id</th>\n",
       "      <th>name</th>\n",
       "      <th>category</th>\n",
       "      <th>price</th>\n",
       "      <th>old_price</th>\n",
       "      <th>sellable_online</th>\n",
       "      <th>link</th>\n",
       "      <th>other_colors</th>\n",
       "      <th>short_description</th>\n",
       "      <th>designer</th>\n",
       "      <th>depth</th>\n",
       "      <th>height</th>\n",
       "      <th>width</th>\n",
       "    </tr>\n",
       "  </thead>\n",
       "  <tbody>\n",
       "    <tr>\n",
       "      <th>3689</th>\n",
       "      <td>99157902</td>\n",
       "      <td>ELVARLI</td>\n",
       "      <td>Wardrobes</td>\n",
       "      <td>750.0</td>\n",
       "      <td>SR 820</td>\n",
       "      <td>True</td>\n",
       "      <td>https://www.ikea.com/sa/en/p/elvarli-1-section...</td>\n",
       "      <td>No</td>\n",
       "      <td>1 section,          92x51x222-350 cm</td>\n",
       "      <td>Ehlén Johansson</td>\n",
       "      <td>50.0</td>\n",
       "      <td>NaN</td>\n",
       "      <td>91.0</td>\n",
       "    </tr>\n",
       "    <tr>\n",
       "      <th>3690</th>\n",
       "      <td>9158152</td>\n",
       "      <td>ELVARLI</td>\n",
       "      <td>Wardrobes</td>\n",
       "      <td>1572.0</td>\n",
       "      <td>SR 1,755</td>\n",
       "      <td>True</td>\n",
       "      <td>https://www.ikea.com/sa/en/p/elvarli-2-section...</td>\n",
       "      <td>No</td>\n",
       "      <td>2 sections,          135x51x222-350 cm</td>\n",
       "      <td>Ehlén Johansson</td>\n",
       "      <td>50.0</td>\n",
       "      <td>NaN</td>\n",
       "      <td>135.0</td>\n",
       "    </tr>\n",
       "    <tr>\n",
       "      <th>3691</th>\n",
       "      <td>59157541</td>\n",
       "      <td>ELVARLI</td>\n",
       "      <td>Wardrobes</td>\n",
       "      <td>924.0</td>\n",
       "      <td>SR 1,050</td>\n",
       "      <td>True</td>\n",
       "      <td>https://www.ikea.com/sa/en/p/elvarli-2-section...</td>\n",
       "      <td>No</td>\n",
       "      <td>2 sections,          175x51x222-350 cm</td>\n",
       "      <td>Ehlén Johansson</td>\n",
       "      <td>50.0</td>\n",
       "      <td>NaN</td>\n",
       "      <td>175.0</td>\n",
       "    </tr>\n",
       "    <tr>\n",
       "      <th>3692</th>\n",
       "      <td>89157573</td>\n",
       "      <td>ELVARLI</td>\n",
       "      <td>Wardrobes</td>\n",
       "      <td>2745.0</td>\n",
       "      <td>SR 3,130</td>\n",
       "      <td>True</td>\n",
       "      <td>https://www.ikea.com/sa/en/p/elvarli-3-section...</td>\n",
       "      <td>No</td>\n",
       "      <td>3 sections,          178x51x222-350 cm</td>\n",
       "      <td>Ehlén Johansson</td>\n",
       "      <td>50.0</td>\n",
       "      <td>NaN</td>\n",
       "      <td>178.0</td>\n",
       "    </tr>\n",
       "    <tr>\n",
       "      <th>3693</th>\n",
       "      <td>69157376</td>\n",
       "      <td>ELVARLI</td>\n",
       "      <td>Wardrobes</td>\n",
       "      <td>1231.0</td>\n",
       "      <td>SR 1,535</td>\n",
       "      <td>True</td>\n",
       "      <td>https://www.ikea.com/sa/en/p/elvarli-2-section...</td>\n",
       "      <td>No</td>\n",
       "      <td>2 sections,          175x51x222-350 cm</td>\n",
       "      <td>Ehlén Johansson</td>\n",
       "      <td>50.0</td>\n",
       "      <td>NaN</td>\n",
       "      <td>175.0</td>\n",
       "    </tr>\n",
       "  </tbody>\n",
       "</table>\n",
       "</div>"
      ],
      "text/plain": [
       "       item_id     name   category   price old_price  sellable_online  \\\n",
       "3689  99157902  ELVARLI  Wardrobes   750.0    SR 820             True   \n",
       "3690   9158152  ELVARLI  Wardrobes  1572.0  SR 1,755             True   \n",
       "3691  59157541  ELVARLI  Wardrobes   924.0  SR 1,050             True   \n",
       "3692  89157573  ELVARLI  Wardrobes  2745.0  SR 3,130             True   \n",
       "3693  69157376  ELVARLI  Wardrobes  1231.0  SR 1,535             True   \n",
       "\n",
       "                                                   link other_colors  \\\n",
       "3689  https://www.ikea.com/sa/en/p/elvarli-1-section...           No   \n",
       "3690  https://www.ikea.com/sa/en/p/elvarli-2-section...           No   \n",
       "3691  https://www.ikea.com/sa/en/p/elvarli-2-section...           No   \n",
       "3692  https://www.ikea.com/sa/en/p/elvarli-3-section...           No   \n",
       "3693  https://www.ikea.com/sa/en/p/elvarli-2-section...           No   \n",
       "\n",
       "                                   short_description         designer  depth  \\\n",
       "3689            1 section,          92x51x222-350 cm  Ehlén Johansson   50.0   \n",
       "3690          2 sections,          135x51x222-350 cm  Ehlén Johansson   50.0   \n",
       "3691          2 sections,          175x51x222-350 cm  Ehlén Johansson   50.0   \n",
       "3692          3 sections,          178x51x222-350 cm  Ehlén Johansson   50.0   \n",
       "3693          2 sections,          175x51x222-350 cm  Ehlén Johansson   50.0   \n",
       "\n",
       "      height  width  \n",
       "3689     NaN   91.0  \n",
       "3690     NaN  135.0  \n",
       "3691     NaN  175.0  \n",
       "3692     NaN  178.0  \n",
       "3693     NaN  175.0  "
      ]
     },
     "execution_count": 3,
     "metadata": {},
     "output_type": "execute_result"
    }
   ],
   "source": [
    "df.tail()"
   ]
  },
  {
   "cell_type": "markdown",
   "id": "dfb40405",
   "metadata": {},
   "source": [
    "### 資料觀察"
   ]
  },
  {
   "cell_type": "code",
   "execution_count": 4,
   "id": "f9b485b6",
   "metadata": {},
   "outputs": [
    {
     "name": "stdout",
     "output_type": "stream",
     "text": [
      "<class 'pandas.core.frame.DataFrame'>\n",
      "RangeIndex: 3694 entries, 0 to 3693\n",
      "Data columns (total 13 columns):\n",
      " #   Column             Non-Null Count  Dtype  \n",
      "---  ------             --------------  -----  \n",
      " 0   item_id            3694 non-null   int64  \n",
      " 1   name               3694 non-null   object \n",
      " 2   category           3694 non-null   object \n",
      " 3   price              3694 non-null   float64\n",
      " 4   old_price          3694 non-null   object \n",
      " 5   sellable_online    3694 non-null   bool   \n",
      " 6   link               3694 non-null   object \n",
      " 7   other_colors       3694 non-null   object \n",
      " 8   short_description  3694 non-null   object \n",
      " 9   designer           3694 non-null   object \n",
      " 10  depth              2231 non-null   float64\n",
      " 11  height             2706 non-null   float64\n",
      " 12  width              3105 non-null   float64\n",
      "dtypes: bool(1), float64(4), int64(1), object(7)\n",
      "memory usage: 350.0+ KB\n"
     ]
    }
   ],
   "source": [
    "df.info()"
   ]
  },
  {
   "cell_type": "markdown",
   "id": "265999ab",
   "metadata": {},
   "source": [
    "從info，可看到此資料集中含有13欄，3694筆商品資料，其中「depth」、「height」、「width」欄含有空值，各欄位資訊如下：  \n",
    "- item_id 商品id  \n",
    "- name 商品名稱  \n",
    "- category 商品種類  \n",
    "- price 商品活動價  \n",
    "- old_price 商品原定價  \n",
    "- sellable_online 線上可否購買  \n",
    "- link 商品連結  \n",
    "- other_colors 其他顏色  \n",
    "- short_description 商品簡介  \n",
    "- designer  商品設計者  \n",
    "- depth/height/width 商品長寬高  "
   ]
  },
  {
   "cell_type": "markdown",
   "id": "c8bb956d",
   "metadata": {},
   "source": [
    "### 檢查資料是否有異常"
   ]
  },
  {
   "cell_type": "code",
   "execution_count": 5,
   "id": "188189d1",
   "metadata": {},
   "outputs": [
    {
     "data": {
      "text/plain": [
       "item_id              2962\n",
       "name                  607\n",
       "category               17\n",
       "price                 979\n",
       "old_price             365\n",
       "sellable_online         2\n",
       "link                 2962\n",
       "other_colors            2\n",
       "short_description    1706\n",
       "designer              381\n",
       "depth                 114\n",
       "height                193\n",
       "width                 263\n",
       "dtype: int64"
      ]
     },
     "execution_count": 5,
     "metadata": {},
     "output_type": "execute_result"
    }
   ],
   "source": [
    "df.nunique() # item_id有異常"
   ]
  },
  {
   "cell_type": "markdown",
   "id": "a1ef1ca9",
   "metadata": {},
   "source": [
    "從nunique中可發現`「item_id」此欄位有些異常，理論上此欄應是唯一值，但卻有重複資料，故先標記。`"
   ]
  },
  {
   "cell_type": "markdown",
   "id": "bc829d94",
   "metadata": {},
   "source": [
    "### 資料清洗"
   ]
  },
  {
   "cell_type": "code",
   "execution_count": 6,
   "id": "df250fe9",
   "metadata": {},
   "outputs": [
    {
     "name": "stdout",
     "output_type": "stream",
     "text": [
      "nan value in each columns:\n",
      "item_id                 0\n",
      "name                    0\n",
      "category                0\n",
      "price                   0\n",
      "old_price               0\n",
      "sellable_online         0\n",
      "link                    0\n",
      "other_colors            0\n",
      "short_description       0\n",
      "designer                0\n",
      "depth                1463\n",
      "height                988\n",
      "width                 589\n",
      "dtype: int64\n"
     ]
    }
   ],
   "source": [
    "# 空值處理\n",
    "print('nan value in each columns:')\n",
    "print(df.isnull().sum())\n"
   ]
  },
  {
   "cell_type": "code",
   "execution_count": 7,
   "id": "90d9e4ee",
   "metadata": {},
   "outputs": [
    {
     "name": "stdout",
     "output_type": "stream",
     "text": [
      "item_id              0\n",
      "name                 0\n",
      "category             0\n",
      "price                0\n",
      "old_price            0\n",
      "sellable_online      0\n",
      "link                 0\n",
      "other_colors         0\n",
      "short_description    0\n",
      "designer             0\n",
      "depth                0\n",
      "height               0\n",
      "width                0\n",
      "dtype: int64\n"
     ]
    }
   ],
   "source": [
    "# 以 0補值\n",
    "df = df.fillna(0)\n",
    "\n",
    "#check\n",
    "print(df.isnull().sum())\n"
   ]
  },
  {
   "cell_type": "markdown",
   "id": "5a577567",
   "metadata": {},
   "source": [
    "從上可發現「depth」、「height」及「width」等欄位含有空值且空值數多，約佔總筆數20%以上，推測可能是因為傢俱類的商品較難測量尺寸，所以不一定會紀錄實際的商品長寬高，因此造成此三個欄位缺失值多，若直接刪除欄位會使資料量少很多，所以將其補值為0 (補值為0者代表沒有實際長/寬/高)。"
   ]
  },
  {
   "cell_type": "markdown",
   "id": "d65fb766",
   "metadata": {},
   "source": [
    "**⇣ 檢查資料時有發現「item_id」此欄有異常，將其由小到大排序觀察**"
   ]
  },
  {
   "cell_type": "code",
   "execution_count": 8,
   "id": "2afd7115",
   "metadata": {},
   "outputs": [
    {
     "data": {
      "text/html": [
       "<div>\n",
       "<style scoped>\n",
       "    .dataframe tbody tr th:only-of-type {\n",
       "        vertical-align: middle;\n",
       "    }\n",
       "\n",
       "    .dataframe tbody tr th {\n",
       "        vertical-align: top;\n",
       "    }\n",
       "\n",
       "    .dataframe thead th {\n",
       "        text-align: right;\n",
       "    }\n",
       "</style>\n",
       "<table border=\"1\" class=\"dataframe\">\n",
       "  <thead>\n",
       "    <tr style=\"text-align: right;\">\n",
       "      <th></th>\n",
       "      <th>item_id</th>\n",
       "      <th>name</th>\n",
       "      <th>category</th>\n",
       "      <th>price</th>\n",
       "      <th>old_price</th>\n",
       "      <th>sellable_online</th>\n",
       "      <th>link</th>\n",
       "      <th>other_colors</th>\n",
       "      <th>short_description</th>\n",
       "      <th>designer</th>\n",
       "      <th>depth</th>\n",
       "      <th>height</th>\n",
       "      <th>width</th>\n",
       "    </tr>\n",
       "  </thead>\n",
       "  <tbody>\n",
       "    <tr>\n",
       "      <th>3251</th>\n",
       "      <td>58487</td>\n",
       "      <td>FLYTTA</td>\n",
       "      <td>Trolleys</td>\n",
       "      <td>537.0</td>\n",
       "      <td>SR 895</td>\n",
       "      <td>True</td>\n",
       "      <td>https://www.ikea.com/sa/en/p/flytta-kitchen-tr...</td>\n",
       "      <td>No</td>\n",
       "      <td>Kitchen trolley,          98x57 cm</td>\n",
       "      <td>Nicholai Wiig Hansen</td>\n",
       "      <td>0.0</td>\n",
       "      <td>86.0</td>\n",
       "      <td>57.0</td>\n",
       "    </tr>\n",
       "    <tr>\n",
       "      <th>1834</th>\n",
       "      <td>91415</td>\n",
       "      <td>TROFAST</td>\n",
       "      <td>Children's furniture</td>\n",
       "      <td>5.0</td>\n",
       "      <td>No old price</td>\n",
       "      <td>True</td>\n",
       "      <td>https://www.ikea.com/sa/en/p/trofast-lid-white...</td>\n",
       "      <td>No</td>\n",
       "      <td>Lid,          20x28 cm</td>\n",
       "      <td>Studio Copenhagen</td>\n",
       "      <td>0.0</td>\n",
       "      <td>0.0</td>\n",
       "      <td>28.0</td>\n",
       "    </tr>\n",
       "    <tr>\n",
       "      <th>1918</th>\n",
       "      <td>91415</td>\n",
       "      <td>TROFAST</td>\n",
       "      <td>Nursery furniture</td>\n",
       "      <td>5.0</td>\n",
       "      <td>No old price</td>\n",
       "      <td>True</td>\n",
       "      <td>https://www.ikea.com/sa/en/p/trofast-lid-white...</td>\n",
       "      <td>No</td>\n",
       "      <td>Lid,          20x28 cm</td>\n",
       "      <td>Studio Copenhagen</td>\n",
       "      <td>0.0</td>\n",
       "      <td>0.0</td>\n",
       "      <td>28.0</td>\n",
       "    </tr>\n",
       "    <tr>\n",
       "      <th>2560</th>\n",
       "      <td>102065</td>\n",
       "      <td>LYCKSELE LÖVÅS</td>\n",
       "      <td>Sofas &amp; armchairs</td>\n",
       "      <td>495.0</td>\n",
       "      <td>No old price</td>\n",
       "      <td>True</td>\n",
       "      <td>https://www.ikea.com/sa/en/p/lycksele-loevas-m...</td>\n",
       "      <td>No</td>\n",
       "      <td>Mattress,          140x188 cm</td>\n",
       "      <td>IKEA of Sweden</td>\n",
       "      <td>0.0</td>\n",
       "      <td>0.0</td>\n",
       "      <td>0.0</td>\n",
       "    </tr>\n",
       "    <tr>\n",
       "      <th>151</th>\n",
       "      <td>102065</td>\n",
       "      <td>LYCKSELE LÖVÅS</td>\n",
       "      <td>Beds</td>\n",
       "      <td>495.0</td>\n",
       "      <td>No old price</td>\n",
       "      <td>True</td>\n",
       "      <td>https://www.ikea.com/sa/en/p/lycksele-loevas-m...</td>\n",
       "      <td>No</td>\n",
       "      <td>Mattress,          140x188 cm</td>\n",
       "      <td>IKEA of Sweden</td>\n",
       "      <td>0.0</td>\n",
       "      <td>0.0</td>\n",
       "      <td>0.0</td>\n",
       "    </tr>\n",
       "  </tbody>\n",
       "</table>\n",
       "</div>"
      ],
      "text/plain": [
       "      item_id            name              category  price     old_price  \\\n",
       "3251    58487          FLYTTA              Trolleys  537.0        SR 895   \n",
       "1834    91415         TROFAST  Children's furniture    5.0  No old price   \n",
       "1918    91415         TROFAST     Nursery furniture    5.0  No old price   \n",
       "2560   102065  LYCKSELE LÖVÅS     Sofas & armchairs  495.0  No old price   \n",
       "151    102065  LYCKSELE LÖVÅS                  Beds  495.0  No old price   \n",
       "\n",
       "      sellable_online                                               link  \\\n",
       "3251             True  https://www.ikea.com/sa/en/p/flytta-kitchen-tr...   \n",
       "1834             True  https://www.ikea.com/sa/en/p/trofast-lid-white...   \n",
       "1918             True  https://www.ikea.com/sa/en/p/trofast-lid-white...   \n",
       "2560             True  https://www.ikea.com/sa/en/p/lycksele-loevas-m...   \n",
       "151              True  https://www.ikea.com/sa/en/p/lycksele-loevas-m...   \n",
       "\n",
       "     other_colors                           short_description  \\\n",
       "3251           No          Kitchen trolley,          98x57 cm   \n",
       "1834           No                      Lid,          20x28 cm   \n",
       "1918           No                      Lid,          20x28 cm   \n",
       "2560           No               Mattress,          140x188 cm   \n",
       "151            No               Mattress,          140x188 cm   \n",
       "\n",
       "                  designer  depth  height  width  \n",
       "3251  Nicholai Wiig Hansen    0.0    86.0   57.0  \n",
       "1834     Studio Copenhagen    0.0     0.0   28.0  \n",
       "1918     Studio Copenhagen    0.0     0.0   28.0  \n",
       "2560        IKEA of Sweden    0.0     0.0    0.0  \n",
       "151         IKEA of Sweden    0.0     0.0    0.0  "
      ]
     },
     "execution_count": 8,
     "metadata": {},
     "output_type": "execute_result"
    }
   ],
   "source": [
    "df = df.sort_values(by = 'item_id', ascending = True)\n",
    "df.head()"
   ]
  },
  {
   "cell_type": "markdown",
   "id": "0fa7d53a",
   "metadata": {},
   "source": [
    "從上可觀察到`重複的狀況來至於「商品種類不同」`所致，\n",
    "即使商品id、商品名稱、商品長寬高相同，但因其商品種類不同，即被歸為不同商品，e.g. item_id:91415"
   ]
  },
  {
   "cell_type": "code",
   "execution_count": 9,
   "id": "197b26a6",
   "metadata": {},
   "outputs": [
    {
     "data": {
      "text/plain": [
       "0"
      ]
     },
     "execution_count": 9,
     "metadata": {},
     "output_type": "execute_result"
    }
   ],
   "source": [
    "# 重複值處理\n",
    "df = df.drop_duplicates(subset = ['item_id'], keep = 'last')\n",
    "df.duplicated().sum()\n"
   ]
  },
  {
   "cell_type": "markdown",
   "id": "bb40eb0f",
   "metadata": {},
   "source": [
    "在決定應該保留還是刪除重複值時，需考量到若保留重複資料，於後續資料探勘時，這些重複資料將被一直餵入模型中，此狀況對模型運算是不好的，因此，將重複資料移除是較符合效益的，而移除重複資料，即代表著捨棄「商品種類」此一欄位，因其已失真，故後續的預測將移除此欄。"
   ]
  },
  {
   "cell_type": "markdown",
   "id": "6e0e8095",
   "metadata": {},
   "source": [
    "**⇣ 著重在商品內折分析，故針對「price」此欄做離群值觀察**"
   ]
  },
  {
   "cell_type": "code",
   "execution_count": 10,
   "id": "6770af95",
   "metadata": {},
   "outputs": [
    {
     "data": {
      "text/plain": [
       "<AxesSubplot: >"
      ]
     },
     "execution_count": 10,
     "metadata": {},
     "output_type": "execute_result"
    },
    {
     "data": {
      "image/png": "[encoded data removed]",
      "text/plain": [
       "<Figure size 640x480 with 1 Axes>"
      ]
     },
     "metadata": {},
     "output_type": "display_data"
    }
   ],
   "source": [
    "# \"price\"離群值\n",
    "df.boxplot('price')"
   ]
  },
  {
   "cell_type": "markdown",
   "id": "855f8213",
   "metadata": {},
   "source": [
    "由上圖可知「price」離群值多"
   ]
  },
  {
   "cell_type": "markdown",
   "id": "72138ed3",
   "metadata": {},
   "source": [
    "### 鎖定分析方向\n",
    "> 本次分析著重在節流的部分，針對產品特價進行預測，欲預測下次公司舉辦促銷活動時，哪些產品應該列入活動中；哪些則直接以原定價上線即可，使公司避免商品內折的情況。"
   ]
  },
  {
   "cell_type": "code",
   "execution_count": 11,
   "id": "efc9a15d",
   "metadata": {},
   "outputs": [
    {
     "data": {
      "text/html": [
       "<div>\n",
       "<style scoped>\n",
       "    .dataframe tbody tr th:only-of-type {\n",
       "        vertical-align: middle;\n",
       "    }\n",
       "\n",
       "    .dataframe tbody tr th {\n",
       "        vertical-align: top;\n",
       "    }\n",
       "\n",
       "    .dataframe thead th {\n",
       "        text-align: right;\n",
       "    }\n",
       "</style>\n",
       "<table border=\"1\" class=\"dataframe\">\n",
       "  <thead>\n",
       "    <tr style=\"text-align: right;\">\n",
       "      <th></th>\n",
       "      <th>price</th>\n",
       "      <th>other_colors</th>\n",
       "      <th>depth</th>\n",
       "      <th>height</th>\n",
       "      <th>width</th>\n",
       "      <th>discounted</th>\n",
       "    </tr>\n",
       "  </thead>\n",
       "  <tbody>\n",
       "    <tr>\n",
       "      <th>3251</th>\n",
       "      <td>537.0</td>\n",
       "      <td>0</td>\n",
       "      <td>0.0</td>\n",
       "      <td>86.0</td>\n",
       "      <td>57.0</td>\n",
       "      <td>1</td>\n",
       "    </tr>\n",
       "    <tr>\n",
       "      <th>1918</th>\n",
       "      <td>5.0</td>\n",
       "      <td>0</td>\n",
       "      <td>0.0</td>\n",
       "      <td>0.0</td>\n",
       "      <td>28.0</td>\n",
       "      <td>0</td>\n",
       "    </tr>\n",
       "    <tr>\n",
       "      <th>151</th>\n",
       "      <td>495.0</td>\n",
       "      <td>0</td>\n",
       "      <td>0.0</td>\n",
       "      <td>0.0</td>\n",
       "      <td>0.0</td>\n",
       "      <td>0</td>\n",
       "    </tr>\n",
       "    <tr>\n",
       "      <th>128</th>\n",
       "      <td>795.0</td>\n",
       "      <td>0</td>\n",
       "      <td>0.0</td>\n",
       "      <td>157.0</td>\n",
       "      <td>0.0</td>\n",
       "      <td>0</td>\n",
       "    </tr>\n",
       "    <tr>\n",
       "      <th>2687</th>\n",
       "      <td>445.0</td>\n",
       "      <td>0</td>\n",
       "      <td>0.0</td>\n",
       "      <td>75.0</td>\n",
       "      <td>37.0</td>\n",
       "      <td>0</td>\n",
       "    </tr>\n",
       "  </tbody>\n",
       "</table>\n",
       "</div>"
      ],
      "text/plain": [
       "      price  other_colors  depth  height  width  discounted\n",
       "3251  537.0             0    0.0    86.0   57.0           1\n",
       "1918    5.0             0    0.0     0.0   28.0           0\n",
       "151   495.0             0    0.0     0.0    0.0           0\n",
       "128   795.0             0    0.0   157.0    0.0           0\n",
       "2687  445.0             0    0.0    75.0   37.0           0"
      ]
     },
     "execution_count": 11,
     "metadata": {},
     "output_type": "execute_result"
    }
   ],
   "source": [
    "# 新增預測目標\n",
    "df['discounted'] = (df['old_price'] != 'No old price').astype(int) ## 0代表商品沒有折扣；1代表商品有折扣\n",
    "\n",
    "# \"other_colors\"欄位做編碼\n",
    "df['other_colors'] = pd.Categorical(df['other_colors']).codes   ## 0代表沒有其他顏色；1代表有其他顏色\n",
    "\n",
    "# 選定欲預測欄位\n",
    "data = df[['price', 'other_colors', 'depth', 'height', 'width', 'discounted']]\n",
    "data.head() \n"
   ]
  },
  {
   "cell_type": "markdown",
   "id": "3aaafa29",
   "metadata": {},
   "source": [
    "**⇣ 針對'discounted'欄位畫分佈圖，觀察折扣商品分佈比例**"
   ]
  },
  {
   "cell_type": "code",
   "execution_count": 12,
   "id": "8d7ff187",
   "metadata": {},
   "outputs": [
    {
     "data": {
      "image/png": "[encoded data removed]",
      "text/plain": [
       "<Figure size 640x480 with 1 Axes>"
      ]
     },
     "metadata": {},
     "output_type": "display_data"
    }
   ],
   "source": [
    "# 分怖圖\n",
    "ax = plt.axes() ##命名一個 ax畫布\n",
    "sns.kdeplot(data['discounted'], fill = 'fill', ax = ax)\n",
    "ax.set_title('discount distribution')\n",
    "plt.show()\n"
   ]
  },
  {
   "cell_type": "markdown",
   "id": "4f463a24",
   "metadata": {},
   "source": [
    "「discounted」欄位，有0或1兩個選擇，兩個面積加起來為全部資料，由上分佈圖可知\n",
    "`0代表商品沒有折扣；1代表商品有折扣`。商品沒有折扣的比例是有折扣的四倍，即有折扣的商品佔整體的20%"
   ]
  },
  {
   "cell_type": "code",
   "execution_count": 13,
   "id": "922f4fe0",
   "metadata": {},
   "outputs": [
    {
     "data": {
      "image/png": "[encoded data removed]",
      "text/plain": [
       "<Figure size 640x480 with 2 Axes>"
      ]
     },
     "metadata": {},
     "output_type": "display_data"
    }
   ],
   "source": [
    "# 相關性\n",
    "cor = data.corr()\n",
    "ax = plt.axes()\n",
    "sns.heatmap(cor, ax = ax, annot = True)\n",
    "ax.set_title('feature selection')\n",
    "plt.show()\n"
   ]
  },
  {
   "cell_type": "markdown",
   "id": "bff577d3",
   "metadata": {},
   "source": [
    "根據相關係數熱力圖，意外的發現，原始價格跟商品的寬度有高度線性相關"
   ]
  },
  {
   "cell_type": "markdown",
   "id": "3f1b285a",
   "metadata": {},
   "source": [
    "### 初步結論"
   ]
  },
  {
   "cell_type": "markdown",
   "id": "b2ff5ebc",
   "metadata": {},
   "source": [
    "透過ikea約3000個商品型錄資料，得出以下分析結論:\n",
    "1. 有修改過價格的產品占整體2成\n",
    "2. 原始價格與商品寬度有較強的關係\n",
    "\n",
    "接著將繼續以預測商品是否需打折為方向進行分析"
   ]
  },
  {
   "cell_type": "markdown",
   "id": "dfd107f9",
   "metadata": {},
   "source": [
    "## [ 開始預測 ]"
   ]
  },
  {
   "cell_type": "code",
   "execution_count": 14,
   "id": "4385fb10",
   "metadata": {},
   "outputs": [],
   "source": [
    "# 導入工具包\n",
    "from sklearn import preprocessing, svm, ensemble\n",
    "from xgboost import XGBClassifier\n",
    "from sklearn.metrics import accuracy_score, confusion_matrix,precision_score, recall_score\n",
    "from sklearn.model_selection import train_test_split\n"
   ]
  },
  {
   "cell_type": "code",
   "execution_count": 15,
   "id": "1452a335",
   "metadata": {},
   "outputs": [
    {
     "name": "stdout",
     "output_type": "stream",
     "text": [
      "(2962, 5)\n",
      "(2962,)\n"
     ]
    }
   ],
   "source": [
    "# 設定特徵向量X及對應的標籤y\n",
    "y = data['discounted']\n",
    "X = data.drop(['discounted'], axis = 1)\n",
    "print(X.shape)\n",
    "print(y.shape)\n"
   ]
  },
  {
   "cell_type": "code",
   "execution_count": 16,
   "id": "f2848e2b",
   "metadata": {},
   "outputs": [],
   "source": [
    "# 將資料分成訓練資料及測試資料\n",
    "X_train,X_test,y_train,y_test = train_test_split(X,y,test_size = 0.2, random_state = 1)\n",
    "\n",
    "# 標準化訓練資料及測試資料\n",
    "scaler = preprocessing.StandardScaler().fit(X_train)\n",
    "X_train = scaler.transform(X_train)\n",
    "X_test = scaler.transform(X_test)\n"
   ]
  },
  {
   "cell_type": "markdown",
   "id": "bd3c2cee",
   "metadata": {},
   "source": [
    "### SVM - 預測"
   ]
  },
  {
   "cell_type": "code",
   "execution_count": 17,
   "id": "d78d1f58",
   "metadata": {},
   "outputs": [
    {
     "name": "stdout",
     "output_type": "stream",
     "text": [
      "number of correct sample: 480\n",
      "accuracy: 0.8094435075885329\n",
      "confusion matrix: [[475   2]\n",
      " [111   5]]\n",
      "precision score of RandomForest: 0.7142857142857143\n",
      "recall score of RandomForest: 0.04310344827586207\n"
     ]
    }
   ],
   "source": [
    "# 定義SVM模型並訓練\n",
    "svm_model = svm.SVC(kernel = 'rbf', C = 1, gamma = 'auto')\n",
    "svm_model.fit(X_train,y_train)\n",
    "\n",
    "y_pred = svm_model.predict(X_test)\n",
    "\n",
    "# 驗證結果\n",
    "num_correct_samples = accuracy_score(y_test, y_pred, normalize = False)\n",
    "accuracy = accuracy_score(y_test, y_pred)\n",
    "con_matrix = confusion_matrix(y_test, y_pred)\n",
    "precision = precision_score(y_test, y_pred)\n",
    "recall = recall_score(y_test, y_pred)\n",
    "\n",
    "print(f'number of correct sample: {num_correct_samples}')\n",
    "print(f'accuracy: {accuracy}')\n",
    "print(f'confusion matrix: {con_matrix}')  ## y軸:真實 x軸:預測\n",
    "print(f'precision score of RandomForest: {precision}')\n",
    "print(f'recall score of RandomForest: {recall}')\n"
   ]
  },
  {
   "cell_type": "markdown",
   "id": "be43ae29",
   "metadata": {},
   "source": [
    "### 隨機森林 - 預測"
   ]
  },
  {
   "cell_type": "code",
   "execution_count": 18,
   "id": "6519c227",
   "metadata": {},
   "outputs": [
    {
     "name": "stdout",
     "output_type": "stream",
     "text": [
      "number of correct sample: 512\n",
      "accuracy: 0.863406408094435\n",
      "confusion_matrix: [[460  17]\n",
      " [ 64  52]]\n",
      "precision score of RandomForest: 0.7536231884057971\n",
      "recall score of RandomForest: 0.4482758620689655\n"
     ]
    }
   ],
   "source": [
    "# 定義RandomForest模型並訓練\n",
    "forest_model = ensemble.RandomForestClassifier(n_estimators = 100)\n",
    "forest_model.fit(X_train,y_train)\n",
    "\n",
    "y_pred = forest_model.predict(X_test)\n",
    "\n",
    "# 驗證結果\n",
    "num_correct_samples = accuracy_score(y_test, y_pred, normalize = False)\n",
    "accuracy = accuracy_score(y_test, y_pred)\n",
    "con_matrix = confusion_matrix(y_test, y_pred)\n",
    "precision = precision_score(y_test, y_pred)\n",
    "recall = recall_score(y_test, y_pred)\n",
    "\n",
    "print(f'number of correct sample: {num_correct_samples}')\n",
    "print(f'accuracy: {accuracy}')\n",
    "print(f'confusion_matrix: {con_matrix}')  ## y軸:真實 x軸:預測\n",
    "print(f'precision score of RandomForest: {precision}')\n",
    "print(f'recall score of RandomForest: {recall}')\n"
   ]
  },
  {
   "cell_type": "markdown",
   "id": "57e811d3",
   "metadata": {},
   "source": [
    "### XGB - 預測"
   ]
  },
  {
   "cell_type": "code",
   "execution_count": 19,
   "id": "0ea051a7",
   "metadata": {},
   "outputs": [
    {
     "name": "stdout",
     "output_type": "stream",
     "text": [
      "number of correct sample: 527\n",
      "accuracy: 0.8887015177065767\n",
      "confusion_matrix: [[467  10]\n",
      " [ 56  60]]\n",
      "precision score of RandomForest: 0.8571428571428571\n",
      "recall score of RandomForest: 0.5172413793103449\n"
     ]
    }
   ],
   "source": [
    "# 定義xgboost模型並訓練\n",
    "xgb_model = XGBClassifier(n_estimators = 100, learning_rate = 0.3)\n",
    "xgb_model.fit(X_train, y_train)\n",
    "\n",
    "y_pred = xgb_model.predict(X_test)\n",
    "\n",
    "# 驗證結果\n",
    "num_correct_samples = accuracy_score(y_test, y_pred, normalize = False)\n",
    "accuracy = accuracy_score(y_test, y_pred)\n",
    "con_matrix = confusion_matrix(y_test, y_pred)\n",
    "precision = precision_score(y_test, y_pred)\n",
    "recall = recall_score(y_test, y_pred)\n",
    "\n",
    "print(f'number of correct sample: {num_correct_samples}')\n",
    "print(f'accuracy: {accuracy}')\n",
    "print(f'confusion_matrix: {con_matrix}')  ## y軸:真實 x軸:預測\n",
    "print(f'precision score of RandomForest: {precision}')\n",
    "print(f'recall score of RandomForest: {recall}')\n"
   ]
  },
  {
   "cell_type": "markdown",
   "id": "c53ac6b0",
   "metadata": {},
   "source": [
    "### 結論"
   ]
  },
  {
   "cell_type": "markdown",
   "id": "2247e0d1",
   "metadata": {},
   "source": [
    "上面3個模型，若由accuracy score（準確度）評估，可以很明顯的發現，在商品是否需要折扣的判定預測中，隨機森林模型及XGBoosting模型表現得比較好一點；而SVM模型則表顯得較不理想，從confusion_matrix（混淆矩陣）中可看到，造成其準確度低的主因是矩陣左下方的部分，即「商品實際上有折扣卻誤判為無折扣」，若要改善此情形，可以嘗試增加相關的資料集，亦即增加實際有打折的資料餵入模型中。"
   ]
  },
  {
   "cell_type": "markdown",
   "id": "50047fee",
   "metadata": {},
   "source": [
    "## [模型輸出 / 餵新資料預測]"
   ]
  },
  {
   "cell_type": "markdown",
   "id": "f6706aef",
   "metadata": {},
   "source": [
    "**⇣ XGBoosting模型準確度較高將其輸出**"
   ]
  },
  {
   "cell_type": "code",
   "execution_count": 20,
   "id": "437029ec",
   "metadata": {},
   "outputs": [
    {
     "data": {
      "text/plain": [
       "['./xgb_model']"
      ]
     },
     "execution_count": 20,
     "metadata": {},
     "output_type": "execute_result"
    }
   ],
   "source": [
    "# 模型輸出\n",
    "import joblib\n",
    "joblib.dump(xgb_model, './xgb_model')\n"
   ]
  },
  {
   "cell_type": "code",
   "execution_count": 21,
   "id": "4586183d",
   "metadata": {},
   "outputs": [
    {
     "name": "stdout",
     "output_type": "stream",
     "text": [
      "   price  other_colors  depth  height  width\n",
      "0    500             0     20      10     30\n",
      "==========\n",
      "新餵入資料是否需打折:[1](0代表商品不需要打折；1代表商品需打折)\n"
     ]
    }
   ],
   "source": [
    "# 輸入模型\n",
    "loaded_model = joblib.load('./xgb_model')\n",
    "\n",
    "# 餵新資料預測\n",
    "new = {'price':[500], 'other_colors':[0], 'depth':[20],\n",
    "       'height':[10], 'width':[30]}\n",
    "new = pd.DataFrame(new)\n",
    "print(new)\n",
    "print('==========')\n",
    "\n",
    "new_predict = loaded_model.predict(new)\n",
    "print(f'新餵入資料是否需打折:{new_predict}(0代表商品不需要打折；1代表商品需打折)')\n"
   ]
  }
 ],
 "metadata": {
  "kernelspec": {
   "display_name": "Python 3 (ipykernel)",
   "language": "python",
   "name": "python3"
  },
  "language_info": {
   "codemirror_mode": {
    "name": "ipython",
    "version": 3
   },
   "file_extension": ".py",
   "mimetype": "text/x-python",
   "name": "python",
   "nbconvert_exporter": "python",
   "pygments_lexer": "ipython3",
   "version": "3.9.13"
  }
 },
 "nbformat": 4,
 "nbformat_minor": 5
}
